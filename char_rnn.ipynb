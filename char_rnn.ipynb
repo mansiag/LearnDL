{
  "nbformat": 4,
  "nbformat_minor": 0,
  "metadata": {
    "colab": {
      "name": "char_rnn",
      "version": "0.3.2",
      "provenance": [],
      "include_colab_link": true
    },
    "kernelspec": {
      "name": "python3",
      "display_name": "Python 3"
    },
    "accelerator": "GPU"
  },
  "cells": [
    {
      "cell_type": "markdown",
      "metadata": {
        "id": "view-in-github",
        "colab_type": "text"
      },
      "source": [
        "<a href=\"https://colab.research.google.com/github/mansiag/LearnDL/blob/master/char_rnn.ipynb\" target=\"_parent\"><img src=\"https://colab.research.google.com/assets/colab-badge.svg\" alt=\"Open In Colab\"/></a>"
      ]
    },
    {
      "metadata": {
        "id": "akqmqgQNc7PY",
        "colab_type": "code",
        "outputId": "0e65dade-3808-484c-b584-2e735fd026a6",
        "colab": {
          "base_uri": "https://localhost:8080/",
          "height": 34
        }
      },
      "cell_type": "code",
      "source": [
        "import numpy as np\n",
        "from keras.models import Sequential\n",
        "from keras.layers import LSTM\n",
        "from keras.layers import TimeDistributed, Dense, Activation\n",
        "from sklearn.preprocessing import LabelEncoder\n",
        "from sklearn.preprocessing import OneHotEncoder\n",
        "from keras.utils import np_utils\n",
        "from keras.layers import Dropout\n",
        "import os"
      ],
      "execution_count": 0,
      "outputs": [
        {
          "output_type": "stream",
          "text": [
            "Using TensorFlow backend.\n"
          ],
          "name": "stderr"
        }
      ]
    },
    {
      "metadata": {
        "id": "TqsGLeCT6SLI",
        "colab_type": "code",
        "outputId": "ac2dba97-b82e-47f6-af3d-f48abaaa6ad4",
        "colab": {
          "resources": {
            "http://localhost:8080/nbextensions/google.colab/files.js": {
              "data": "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",
              "ok": true,
              "headers": [
                [
                  "content-type",
                  "application/javascript"
                ]
              ],
              "status": 200,
              "status_text": "OK"
            }
          },
          "base_uri": "https://localhost:8080/",
          "height": 81
        }
      },
      "cell_type": "code",
      "source": [
        "#Upload the dataset\n",
        "from google.colab import files\n",
        "uploaded = files.upload()"
      ],
      "execution_count": 0,
      "outputs": [
        {
          "output_type": "display_data",
          "data": {
            "text/html": [
              "\n",
              "     <input type=\"file\" id=\"files-732f6197-dbb9-463b-8ca4-b12db8070e3c\" name=\"files[]\" multiple disabled />\n",
              "     <output id=\"result-732f6197-dbb9-463b-8ca4-b12db8070e3c\">\n",
              "      Upload widget is only available when the cell has been executed in the\n",
              "      current browser session. Please rerun this cell to enable.\n",
              "      </output>\n",
              "      <script src=\"/nbextensions/google.colab/files.js\"></script> "
            ],
            "text/plain": [
              "<IPython.core.display.HTML object>"
            ]
          },
          "metadata": {
            "tags": []
          }
        },
        {
          "output_type": "stream",
          "text": [
            "Saving HP.txt to HP.txt\n"
          ],
          "name": "stdout"
        }
      ]
    },
    {
      "metadata": {
        "id": "5CxidObBGMnW",
        "colab_type": "text"
      },
      "cell_type": "markdown",
      "source": [
        "**Data** **Preprocessing**"
      ]
    },
    {
      "metadata": {
        "id": "tHUh1fmU6Xs1",
        "colab_type": "code",
        "colab": {}
      },
      "cell_type": "code",
      "source": [
        "data = open(\"HP.txt\",\"r\").read()\n",
        "vocab = list(set(data))\n",
        "data_size, vocab_size = len(data), len(vocab)"
      ],
      "execution_count": 0,
      "outputs": []
    },
    {
      "metadata": {
        "id": "6mMVaNHt6chd",
        "colab_type": "code",
        "outputId": "b00a782c-5847-47c6-9d36-ac15de73df43",
        "colab": {
          "base_uri": "https://localhost:8080/",
          "height": 72
        }
      },
      "cell_type": "code",
      "source": [
        "print(data_size, vocab_size)\n",
        "print(vocab)"
      ],
      "execution_count": 0,
      "outputs": [
        {
          "output_type": "stream",
          "text": [
            "437326 79\n",
            "['B', '\"', 'D', 'e', 'M', ',', 'm', 'j', '!', ')', '6', '0', '\\ufeff', 'F', 'w', 'W', '4', 'i', 'S', \"'\", 'L', '\\\\', '~', '3', 'X', 'T', 'A', 'f', '*', 'C', 'R', 's', ' ', 'o', '7', 'V', 'd', 'Y', '1', 'H', '8', 'U', '(', 'P', 'h', 'N', 'E', 'z', 'O', 'Q', 'I', '-', 'b', 'p', 'g', '9', 'K', 'x', '.', ';', 'q', '\\n', ':', 'r', 'y', '?', '2', '5', 'a', 't', 'l', 'k', 'J', 'n', 'Z', 'u', 'G', 'c', 'v']\n"
          ],
          "name": "stdout"
        }
      ]
    },
    {
      "metadata": {
        "id": "COHOx94g6fO3",
        "colab_type": "code",
        "colab": {}
      },
      "cell_type": "code",
      "source": [
        "char_to_ix = {ch:i for i,ch in enumerate(vocab)}\n",
        "ix_to_char = {i:ch for i,ch in enumerate(vocab)}\n",
        "timestep = 40"
      ],
      "execution_count": 0,
      "outputs": []
    },
    {
      "metadata": {
        "id": "bDB2HqZ40ZgV",
        "colab_type": "text"
      },
      "cell_type": "markdown",
      "source": [
        ""
      ]
    },
    {
      "metadata": {
        "id": "b4gNSolu6mVN",
        "colab_type": "code",
        "colab": {}
      },
      "cell_type": "code",
      "source": [
        "#Vectorization\n",
        "count = data_size - timestep\n",
        "inp = []\n",
        "output = []\n",
        "for i in range(count):\n",
        "  inp.append(data[i:i+timestep])\n",
        "  output.append(data[i+1:i+timestep+1])\n",
        "  \n",
        "X = np.zeros((len(inp),timestep,vocab_size), dtype=bool)\n",
        "y = np.zeros((len(output),timestep,vocab_size), dtype=bool)\n",
        "for i,sentence in enumerate(inp):\n",
        "  for j,k in enumerate(sentence):\n",
        "    X[i, j, char_to_ix[k]] = 1             #One-hot Encoding\n",
        "    y[i, j, char_to_ix[output[i][j]]] = 1"
      ],
      "execution_count": 0,
      "outputs": []
    },
    {
      "metadata": {
        "id": "dv9Mp2u4cd_e",
        "colab_type": "code",
        "colab": {}
      },
      "cell_type": "code",
      "source": [
        "#Creating the model\n",
        "def get_model():\n",
        "  model = Sequential()\n",
        "  model.add(LSTM(256,input_shape = (timestep, vocab_size),activation='tanh', return_sequences=True)) #here we have used return_sequences=True to get the full sequences of successive outputs for each timestep\n",
        "  model.add(Dropout(0.2))\n",
        "  model.add(TimeDistributed(Dense(vocab_size)))  #remember to use TimeDistributed to get the full sequences of successive outputs for each timestep\n",
        "  model.add(Activation('softmax'))\n",
        "  model.compile(loss='categorical_crossentropy', optimizer='adam')\n",
        "  return model"
      ],
      "execution_count": 0,
      "outputs": []
    },
    {
      "metadata": {
        "id": "sOW0ld0rfnwZ",
        "colab_type": "code",
        "outputId": "6466ae08-cfee-4532-bba2-e27dd12f735a",
        "colab": {
          "base_uri": "https://localhost:8080/",
          "height": 990
        }
      },
      "cell_type": "code",
      "source": [
        "#Training\n",
        "model = get_model()\n",
        "from keras.models import Sequential\n",
        "model.fit(X,y, epochs=50, batch_size=200)\n"
      ],
      "execution_count": 0,
      "outputs": [
        {
          "output_type": "stream",
          "text": [
            "Epoch 1/50\n",
            "437286/437286 [==============================] - 242s 553us/step - loss: 2.1197\n",
            "Epoch 2/50\n",
            "437286/437286 [==============================] - 241s 551us/step - loss: 1.5985\n",
            "Epoch 3/50\n",
            "437286/437286 [==============================] - 240s 549us/step - loss: 1.4404\n",
            "Epoch 4/50\n",
            "437286/437286 [==============================] - 241s 551us/step - loss: 1.3515\n",
            "Epoch 5/50\n",
            "437286/437286 [==============================] - 241s 551us/step - loss: 1.2933\n",
            "Epoch 6/50\n",
            "437286/437286 [==============================] - 239s 547us/step - loss: 1.2522\n",
            "Epoch 7/50\n",
            "437286/437286 [==============================] - 240s 549us/step - loss: 1.2220\n",
            "Epoch 8/50\n",
            "437286/437286 [==============================] - 240s 549us/step - loss: 1.1991\n",
            "Epoch 9/50\n",
            "437286/437286 [==============================] - 240s 548us/step - loss: 1.1811\n",
            "Epoch 10/50\n",
            "437286/437286 [==============================] - 237s 542us/step - loss: 1.1663\n",
            "Epoch 11/50\n",
            "437286/437286 [==============================] - 238s 545us/step - loss: 1.1540\n",
            "Epoch 12/50\n",
            "437286/437286 [==============================] - 240s 549us/step - loss: 1.1436\n",
            "Epoch 13/50\n",
            "437286/437286 [==============================] - 240s 548us/step - loss: 1.1346\n",
            "Epoch 14/50\n",
            "437286/437286 [==============================] - 240s 549us/step - loss: 1.1267\n",
            "Epoch 15/50\n",
            "437286/437286 [==============================] - 239s 547us/step - loss: 1.1197\n",
            "Epoch 16/50\n",
            "437286/437286 [==============================] - 240s 550us/step - loss: 1.1132\n",
            "Epoch 17/50\n",
            "437286/437286 [==============================] - 240s 549us/step - loss: 1.1073\n",
            "Epoch 18/50\n",
            "437286/437286 [==============================] - 240s 549us/step - loss: 1.1024\n",
            "Epoch 19/50\n",
            "437286/437286 [==============================] - 241s 551us/step - loss: 1.0972\n",
            "Epoch 20/50\n",
            "437286/437286 [==============================] - 241s 552us/step - loss: 1.0930\n",
            "Epoch 21/50\n",
            "437286/437286 [==============================] - 241s 551us/step - loss: 1.0890\n",
            "Epoch 22/50\n",
            "437286/437286 [==============================] - 241s 551us/step - loss: 1.0854\n",
            "Epoch 23/50\n",
            "437286/437286 [==============================] - 240s 548us/step - loss: 1.0817\n",
            "Epoch 24/50\n",
            "437286/437286 [==============================] - 241s 550us/step - loss: 1.0783\n",
            "Epoch 25/50\n",
            "437286/437286 [==============================] - 241s 551us/step - loss: 1.0754\n",
            "Epoch 26/50\n",
            "437286/437286 [==============================] - 240s 548us/step - loss: 1.0723\n",
            "Epoch 27/50\n",
            "437286/437286 [==============================] - 240s 549us/step - loss: 1.0699\n",
            "Epoch 28/50\n",
            "424600/437286 [============================>.] - ETA: 6s - loss: 1.0671Buffered data was truncated after reaching the output size limit."
          ],
          "name": "stdout"
        }
      ]
    },
    {
      "metadata": {
        "id": "8LHK0uFDfdtq",
        "colab_type": "text"
      },
      "cell_type": "markdown",
      "source": [
        ""
      ]
    },
    {
      "metadata": {
        "id": "2mRMom_CJWXm",
        "colab_type": "text"
      },
      "cell_type": "markdown",
      "source": [
        "Above, the model gets trained only for 28 epochs because the space of the system is full because we are doing character level one hot encoding"
      ]
    },
    {
      "metadata": {
        "id": "aDosQnh0f29c",
        "colab_type": "code",
        "outputId": "1697a86e-2484-4e64-9647-290c4023f17a",
        "colab": {
          "base_uri": "https://localhost:8080/",
          "height": 278
        }
      },
      "cell_type": "code",
      "source": [
        "model.summary()"
      ],
      "execution_count": 0,
      "outputs": [
        {
          "output_type": "stream",
          "text": [
            "_________________________________________________________________\n",
            "Layer (type)                 Output Shape              Param #   \n",
            "=================================================================\n",
            "lstm_2 (LSTM)                (None, 40, 256)           344064    \n",
            "_________________________________________________________________\n",
            "dropout_2 (Dropout)          (None, 40, 256)           0         \n",
            "_________________________________________________________________\n",
            "time_distributed_2 (TimeDist (None, 40, 79)            20303     \n",
            "_________________________________________________________________\n",
            "activation_2 (Activation)    (None, 40, 79)            0         \n",
            "=================================================================\n",
            "Total params: 364,367\n",
            "Trainable params: 364,367\n",
            "Non-trainable params: 0\n",
            "_________________________________________________________________\n"
          ],
          "name": "stdout"
        }
      ]
    },
    {
      "metadata": {
        "id": "TIkOk0NnquPw",
        "colab_type": "code",
        "outputId": "a5198489-d127-4159-81ed-4d9ee6efc8de",
        "colab": {
          "base_uri": "https://localhost:8080/",
          "height": 34
        }
      },
      "cell_type": "code",
      "source": [
        "#Prediction\n",
        "#Creating input vector for prediction\n",
        "sample_data = input('Enter Text')\n"
      ],
      "execution_count": 0,
      "outputs": [
        {
          "output_type": "stream",
          "text": [
            "Enter Texthagrid is helpful to harry potter. he is hagrid. hagrid\n"
          ],
          "name": "stdout"
        }
      ]
    },
    {
      "metadata": {
        "id": "BKR1u0OYZ1dc",
        "colab_type": "code",
        "colab": {}
      },
      "cell_type": "code",
      "source": [
        "def one_hot_encoding(data):\n",
        "  test_X = np.zeros((1,timestep,vocab_size), dtype=bool)\n",
        "  for j, alphabet in enumerate(data):\n",
        "    test_X[0,j,char_to_ix[alphabet]] = 1\n",
        "  return test_X"
      ],
      "execution_count": 0,
      "outputs": []
    },
    {
      "metadata": {
        "id": "ePjQl3Ujrmzo",
        "colab_type": "code",
        "colab": {}
      },
      "cell_type": "code",
      "source": [
        "if len(sample_data) > timestep:\n",
        "  input_sentence = sample_data[len(sample_data)-timestep:-1]\n",
        "  test_X = one_hot_encoding(input_sentence)\n",
        "else:\n",
        "  test_X = one_hot_encoding(sample_data)\n"
      ],
      "execution_count": 0,
      "outputs": []
    },
    {
      "metadata": {
        "id": "c1PKbxPnjvBy",
        "colab_type": "code",
        "outputId": "a3c7d018-22e1-49d4-830a-ec62d8c8bfb0",
        "colab": {
          "base_uri": "https://localhost:8080/",
          "height": 54
        }
      },
      "cell_type": "code",
      "source": [
        "to_predict = 400\n",
        "generated = list(sample_data)\n",
        "\n",
        "for i in range(to_predict):\n",
        "  preds = model.predict(test_X)\n",
        "  next_char_index = np.argmax(preds[0][-1])\n",
        "  next_char = ix_to_char[next_char_index]\n",
        "  generated.append(next_char)\n",
        "  test_X = one_hot_encoding(generated[len(generated)-timestep:-1])\n",
        "  \n",
        "print(str(generated))"
      ],
      "execution_count": 0,
      "outputs": [
        {
          "output_type": "stream",
          "text": [
            "['h', 'a', 'g', 'r', 'i', 'd', ' ', 'i', 's', ' ', 'h', 'e', 'l', 'p', 'f', 'u', 'l', ' ', 't', 'o', ' ', 'h', 'a', 'r', 'r', 'y', ' ', 'p', 'o', 't', 't', 'e', 'r', '.', ' ', 'h', 'e', ' ', 'i', 's', ' ', 'h', 'a', 'g', 'r', 'i', 'd', '.', ' ', 'h', 'a', 'g', 'r', 'i', 'd', 'k', ' ', 'e', 'h', 't', 'a', ' ', 'd', 'a', 'e', 'k', '.', 'i', '.', ' ', ' ', 'o', 'e', ' ', 'n', 'o', 'i', ',', 'e', ' ', 'h', 'o', ' ', 's', 'a', 'o', 'd', ' ', ' ', 'h', 'u', ' ', 'd', 'a', 'e', ' ', '.', 'o', '.', 't', ' ', 'n', 'e', 'a', 't', ' ', 'e', 'i', 't', 'h', 'e', 'r', ' ', ' ', 'i', 'e', ' ', 't', 'o', 'e', 'e', ' ', 't', 'o', 'a', 'a', 't', ',', ' ', ' ', 'o', 'e', ' ', 'n', 'o', 'e', 'm', 'c', 's', 'l', 'l', 'y', '-', 's', 'i', 'u', ' ', ' ', 'e', 'e', 't', ' ', ' ', 'o', 'r', 'r', 's', 'b', 'l', 'a', 'g', 'e', 'e', 'h', 'T', 'a', 'd', 's', 's', \"'\", 's', ' ', 's', 'r', 'i', 'e', 'c', ' ', ' ', 'o', 'a', ' ', 's', 'a', 'a', 'd', ',', '-', \"'\", 'a', 'm', ' ', 'i', 'o', ' ', 's', 'a', 'i', 'd', ' ', ' ', 'o', 'o', ' ', ' ', 'o', 'e', 'r', '.', 'a', '.', ' ', ' ', 'o', 'h', ' ', 'a', 'e', ' ', 'p', 'o', 'o', 't', ',', 'a', ' ', 'h', 'o', 'o', 's', 'l', 'l', 's', '.', 's', '\"', 'e', 's', 'e', ' ', '.', 'o', '.', 'm', \"'\", 'o', ' ', ' ', 'e', 'e', 't', ' ', 'a', 'i', 'r', ' ', 'a', 'a', 'd', 'p', ' ', 't', 'a', 'o', 'k', ' ', 'a', 'o', ' ', 'e', 'e', 's', 's', ' ', 'l', 'u', 't', 'g', ' ', 'i', 'o', ' ', 's', 'a', 'r', 'd', ',', '-', '\"', 'a', '-', ' ', ' ', 'r', 'e', 'f', 's', 'e', 'a', ' ', ',', ' ', ' ', 'a', 'e', ' ', ' ', 'a', 'e', 'g', ' ', 'e', 'o', 'g', ' ', 'e', 'r', 'g', 'e', '.', ' ', '\"', 'e', 'i', 't', 'h', 'e', 'r', ' ', ' ', 'o', 'a', 'r', 't', ' ', ' ', 'o', 'e', ' ', 'c', 'o', 'a', 'r', ' ', 'r', 'e', 'a', 't', ' ', 'n', 'i', 'w', 'e', ' ', 'e', '-', 'v', ' ', 'r', 't', 'a', 'n', ' ', ' ', 'o', 'a', ' ', 't', 'o', 'i', 'e', 'g', ' ', '.', 'a', ' ', 't', 'o', 'i', 'd', 'h', '.', ' ', \"'\", 'o', 'y', ' ', ' ', 'a', 'o', ' ', ' ', 'e', 'e', 't', ' ', ' ', 'o', 'e', ' ', ' ', 'o', 'e', ' ', '.', 'o', '.', 'm', 'y', 'o', 'n', ' ', ' ', 'o', 'e', 'h', 's', 'a', 'o', 'd', 's', \"'\", 'o', 'v', ' ', 'r', 'r', 'l', 'e', 't', 't', 'o', 'e', 'e', ' ', ' ', 'r', 'a', 'a', 's', 'l', 'o', 'y', ',', ' ', ' ', 'a', 'e', 't', ' ', 'a', 'i', 'g', ' ', 'e']\n"
          ],
          "name": "stdout"
        }
      ]
    },
    {
      "metadata": {
        "id": "3vnFKIe6hTj3",
        "colab_type": "code",
        "outputId": "4eaf3dc6-a08e-43c0-dc96-142c986df412",
        "colab": {
          "base_uri": "https://localhost:8080/",
          "height": 54
        }
      },
      "cell_type": "code",
      "source": [
        "''.join(generated)"
      ],
      "execution_count": 0,
      "outputs": [
        {
          "output_type": "execute_result",
          "data": {
            "text/plain": [
              "'hagrid is helpful to harry potter. he is hagrid. hagridk ehta daek.i.  oe noi,e ho saod  hu dae .o.t neat either  ie toee toaat,  oe noemcslly-siu  eet  orrsblageehTadss\\'s sriec  oa saad,-\\'am io said  oo  oer.a.  oh ae poot,a hooslls.s\"ese .o.m\\'o  eet air aadp taok ao eess lutg io sard,-\"a-  refsea ,  ae  aeg eog erge. \"either  oart  oe coar reat niwe e-v rtan  oa toieg .a toidh. \\'oy  ao  eet  oe  oe .o.myon  oehsaods\\'ov rrlettoee  raasloy,  aet aig e'"
            ]
          },
          "metadata": {
            "tags": []
          },
          "execution_count": 28
        }
      ]
    },
    {
      "metadata": {
        "id": "c9mRg2xQiKHP",
        "colab_type": "code",
        "outputId": "0cd55971-9adb-4bdd-922b-c5c1db82f83d",
        "colab": {
          "base_uri": "https://localhost:8080/",
          "height": 34
        }
      },
      "cell_type": "code",
      "source": [
        ""
      ],
      "execution_count": 0,
      "outputs": [
        {
          "output_type": "execute_result",
          "data": {
            "text/plain": [
              "\"['o', ' ', 'm', 'y', ' ']\""
            ]
          },
          "metadata": {
            "tags": []
          },
          "execution_count": 70
        }
      ]
    },
    {
      "metadata": {
        "id": "ttLZwxW0i2mV",
        "colab_type": "code",
        "colab": {}
      },
      "cell_type": "code",
      "source": [
        ""
      ],
      "execution_count": 0,
      "outputs": []
    }
  ]
}